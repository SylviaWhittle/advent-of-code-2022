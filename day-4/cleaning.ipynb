{
 "cells": [
  {
   "cell_type": "code",
   "execution_count": 7,
   "metadata": {},
   "outputs": [],
   "source": [
    "def contains(super, sub):\n",
    "    \"\"\"Checks if the super list contains all the elements of the sub list\"\"\"\n",
    "    # Note that this is using the all function on a generator, which works. \n",
    "    return all(item in super for item in sub)"
   ]
  },
  {
   "cell_type": "code",
   "execution_count": 47,
   "metadata": {},
   "outputs": [],
   "source": [
    "LOG = False\n",
    "def log(txt):\n",
    "    if LOG:\n",
    "        print(txt)"
   ]
  },
  {
   "cell_type": "code",
   "execution_count": 36,
   "metadata": {},
   "outputs": [
    {
     "name": "stdout",
     "output_type": "stream",
     "text": [
      "contains_count: 524\n"
     ]
    }
   ],
   "source": [
    "with open('input.txt') as f:\n",
    "    data = f.read().split('\\n')\n",
    "    log(data)\n",
    "\n",
    "contains_count = 0\n",
    "for pair in data:\n",
    "    pair = pair.split(',')\n",
    "    log(pair)\n",
    "    r1 = pair[0].split('-')\n",
    "    r2 = pair[1].split('-')\n",
    "    range1 = [*range(int(r1[0]), int(r1[1])+1)]\n",
    "    range2 = [*range(int(r2[0]), int(r2[1])+1)]\n",
    "    log(f'r1: {range1} r2: {range2}')\n",
    "    contained = (contains(range1, range2) or contains(range2, range1))\n",
    "    log(f' {pair} | {contained}')\n",
    "    contains_count += contained\n",
    "print(f'contains_count: {contains_count}')"
   ]
  },
  {
   "cell_type": "code",
   "execution_count": 40,
   "metadata": {},
   "outputs": [],
   "source": [
    "def overlaps(a1, a2):\n",
    "    \"\"\"Returns the number of overlapping elements\"\"\"\n",
    "    return(len([char for char in a1 if char in a2]))"
   ]
  },
  {
   "cell_type": "code",
   "execution_count": 48,
   "metadata": {},
   "outputs": [
    {
     "name": "stdout",
     "output_type": "stream",
     "text": [
      "overlapped : 798\n"
     ]
    }
   ],
   "source": [
    "with open('input.txt') as f:\n",
    "    data = f.read().split('\\n')\n",
    "    log(data)\n",
    "\n",
    "overlapped = 0\n",
    "for index, pair in enumerate(data):\n",
    "    log(f'pair {index}')\n",
    "    pair = pair.split(',')\n",
    "    log(f' {pair}')\n",
    "    r1 = pair[0].split('-')\n",
    "    r2 = pair[1].split('-')\n",
    "    range1 = [*range(int(r1[0]), int(r1[1])+1)]\n",
    "    range2 = [*range(int(r2[0]), int(r2[1])+1)]\n",
    "    log(f' r1: {range1} r2: {range2}')\n",
    "    number_overlapped = overlaps(range1, range2)\n",
    "    if number_overlapped > 0:\n",
    "        overlapped += 1\n",
    "    log(f' {pair} | {number_overlapped}')\n",
    "\n",
    "print(f'overlapped : {overlapped}')"
   ]
  }
 ],
 "metadata": {
  "kernelspec": {
   "display_name": "Python 3",
   "language": "python",
   "name": "python3"
  },
  "language_info": {
   "codemirror_mode": {
    "name": "ipython",
    "version": 3
   },
   "file_extension": ".py",
   "mimetype": "text/x-python",
   "name": "python",
   "nbconvert_exporter": "python",
   "pygments_lexer": "ipython3",
   "version": "3.10.8"
  },
  "orig_nbformat": 4,
  "vscode": {
   "interpreter": {
    "hash": "b0fa6594d8f4cbf19f97940f81e996739fb7646882a419484c72d19e05852a7e"
   }
  }
 },
 "nbformat": 4,
 "nbformat_minor": 2
}
