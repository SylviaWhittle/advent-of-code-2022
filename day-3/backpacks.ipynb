{
 "cells": [
  {
   "cell_type": "code",
   "execution_count": 33,
   "metadata": {},
   "outputs": [],
   "source": [
    "LOG = False\n",
    "def log(txt):\n",
    "    if LOG:\n",
    "        print(txt)"
   ]
  },
  {
   "cell_type": "code",
   "execution_count": 67,
   "metadata": {},
   "outputs": [
    {
     "name": "stdout",
     "output_type": "stream",
     "text": [
      "total: 7821\n"
     ]
    }
   ],
   "source": [
    "with open('input.txt') as f:\n",
    "    backpacks = f.read().split('\\n')\n",
    "log(f'number of backpacks: {len(backpacks)}')\n",
    "\n",
    "scores = \" abcdefghijklmnopqrstuvwxyzABCDEFGHIJKLMNOPQRSTUVWXYZ\"\n",
    "\n",
    "def get_compartments(backpack):\n",
    "    backpack_size = len(backpack)\n",
    "    log(f'backpack size: {backpack_size}')\n",
    "    if backpack_size / 2 % 1 != 0:\n",
    "        raise ValueError(f'only even sized backpacks allowed')\n",
    "    comp1 = backpack[0:int(backpack_size/2)]\n",
    "    comp2 = backpack[int(backpack_size/2):]\n",
    "    log(f'comp1: {comp1} | comp2: {comp2}')\n",
    "    return comp1, comp2\n",
    "\n",
    "def get_common_item(comp1, comp2):\n",
    "    matches = [char for char in comp1 if char in comp2]\n",
    "    if len(matches) != 1:\n",
    "        if matches.count(matches[0]) != len(matches):\n",
    "            raise ValueError('too many matches')\n",
    "    return matches[0]\n",
    "\n",
    "total = 0\n",
    "for bp in backpacks:\n",
    "    log('')\n",
    "    log(bp)\n",
    "    c1, c2 = get_compartments(bp)\n",
    "    common_item = str(get_common_item(c1, c2))\n",
    "    log(f'common item: {common_item}')\n",
    "    score = scores.index(str(common_item))\n",
    "    log(f'score: {score}')\n",
    "    total += score\n",
    "\n",
    "log('')\n",
    "print(f'total: {total}')"
   ]
  },
  {
   "cell_type": "code",
   "execution_count": 28,
   "metadata": {},
   "outputs": [],
   "source": [
    "def get_common_item_n_lists(lists: list):\n",
    "    common_items = []\n",
    "    for index in range(len(lists)-1):\n",
    "        matches = [char for char in lists[index] if char in lists[index+1]]\n",
    "        if index == 0:\n",
    "            common_items = matches\n",
    "        else:\n",
    "            common_items = [char for char in matches if char in common_items]\n",
    "        log(f'lists: {lists[index], lists[index+1]}')\n",
    "        log(f'matches: {matches}')\n",
    "        log(f'common items: {common_items}')\n",
    "    if common_items.count(common_items[0]) == len(common_items):\n",
    "        return common_items[0]\n",
    "    else:\n",
    "        raise ValueError(f'too many matching values: {common_items}')"
   ]
  },
  {
   "cell_type": "code",
   "execution_count": 24,
   "metadata": {},
   "outputs": [
    {
     "name": "stdout",
     "output_type": "stream",
     "text": [
      "lists: (['a', 'b', 'c'], ['a', 'c'])\n",
      "matches: ['a', 'c']\n",
      "common items: ['a', 'c']\n",
      "lists: (['a', 'c'], ['c'])\n",
      "matches: ['c']\n",
      "common items: ['c']\n"
     ]
    },
    {
     "data": {
      "text/plain": [
       "['c']"
      ]
     },
     "execution_count": 24,
     "metadata": {},
     "output_type": "execute_result"
    }
   ],
   "source": [
    "get_common_item_n_lists([['a', 'b', 'c'], ['a', 'c'], ['c']])"
   ]
  },
  {
   "cell_type": "code",
   "execution_count": 34,
   "metadata": {},
   "outputs": [
    {
     "name": "stdout",
     "output_type": "stream",
     "text": [
      "total: 2752\n"
     ]
    }
   ],
   "source": [
    "with open('input.txt') as f:\n",
    "    backpacks = f.read().split('\\n')\n",
    "log(f'number of backpacks: {len(backpacks)}')\n",
    "\n",
    "scores = \" abcdefghijklmnopqrstuvwxyzABCDEFGHIJKLMNOPQRSTUVWXYZ\"\n",
    "\n",
    "def get_compartments(backpack):\n",
    "    backpack_size = len(backpack)\n",
    "    log(f'backpack size: {backpack_size}')\n",
    "    if backpack_size / 2 % 1 != 0:\n",
    "        raise ValueError(f'only even sized backpacks allowed')\n",
    "    comp1 = backpack[0:int(backpack_size/2)]\n",
    "    comp2 = backpack[int(backpack_size/2):]\n",
    "    log(f'comp1: {comp1} | comp2: {comp2}')\n",
    "    return comp1, comp2\n",
    "\n",
    "\n",
    "\n",
    "total = 0\n",
    "index = 0\n",
    "while index <= len(backpacks)-1:\n",
    "    log('')\n",
    "    b1 = backpacks[index]\n",
    "    b2 = backpacks[index+1]\n",
    "    b3 = backpacks[index+2]\n",
    "    log(b1)\n",
    "    log(b2)\n",
    "    log(b3)\n",
    "\n",
    "\n",
    "    common_item = str(get_common_item_n_lists([b1, b2, b3]))\n",
    "    log(f'common item: {common_item}')\n",
    "    score = scores.index(str(common_item))\n",
    "    log(f'score: {score}')\n",
    "    total += score\n",
    "\n",
    "    index += 3\n",
    "\n",
    "log('')\n",
    "print(f'total: {total}')"
   ]
  }
 ],
 "metadata": {
  "kernelspec": {
   "display_name": "Python 3.10.8 64-bit",
   "language": "python",
   "name": "python3"
  },
  "language_info": {
   "codemirror_mode": {
    "name": "ipython",
    "version": 3
   },
   "file_extension": ".py",
   "mimetype": "text/x-python",
   "name": "python",
   "nbconvert_exporter": "python",
   "pygments_lexer": "ipython3",
   "version": "3.10.8"
  },
  "orig_nbformat": 4,
  "vscode": {
   "interpreter": {
    "hash": "b0fa6594d8f4cbf19f97940f81e996739fb7646882a419484c72d19e05852a7e"
   }
  }
 },
 "nbformat": 4,
 "nbformat_minor": 2
}
