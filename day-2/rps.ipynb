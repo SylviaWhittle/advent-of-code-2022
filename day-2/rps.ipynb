{
 "cells": [
  {
   "cell_type": "code",
   "execution_count": 50,
   "metadata": {},
   "outputs": [
    {
     "name": "stdout",
     "output_type": "stream",
     "text": [
      "15\n"
     ]
    }
   ],
   "source": [
    "with open('test-input.txt') as f:\n",
    "    data = f.read()\n",
    "entries = data.split('\\n')\n",
    "split_entries = [entry.split() for entry in entries]\n",
    "\n",
    "my_score = 0\n",
    "op_score = 0\n",
    "\n",
    "my_moves = {\n",
    "    'X': 'R',\n",
    "    'Y': 'P',\n",
    "    'Z': 'S',\n",
    "}\n",
    "\n",
    "op_moves = {\n",
    "    'A': 'R',\n",
    "    'B': 'P',\n",
    "    'C': 'S',\n",
    "}\n",
    "\n",
    "beats_dict = {\n",
    "    'R': 'S',\n",
    "    'P': 'R',\n",
    "    'S': 'P',\n",
    "}\n",
    "\n",
    "move_scores = {\n",
    "    'R': 1,\n",
    "    'P': 2,\n",
    "    'S': 3,\n",
    "}\n",
    "\n",
    "for move in split_entries:\n",
    "    op_move = op_moves[move[0]]\n",
    "    my_move = my_moves[move[1]]\n",
    "    # print(f'my move: {my_move}')\n",
    "    # print(f'op_move: {op_move}')\n",
    "    if beats_dict[op_move] == my_move:\n",
    "        my_score += move_scores[my_move]\n",
    "        op_score += move_scores[op_move] + 6\n",
    "        # print(f'op win')\n",
    "    elif op_move == my_move:\n",
    "        my_score += move_scores[my_move] + 3\n",
    "        op_score += move_scores[op_move] + 3\n",
    "        # print(f'draw')\n",
    "    else:\n",
    "        my_score += move_scores[my_move] + 6\n",
    "        op_score += move_scores[op_move]\n",
    "        # print(f'my win')\n",
    "\n",
    "    # print(f'current score: {my_score}')\n",
    "\n",
    "print(my_score)\n"
   ]
  },
  {
   "cell_type": "code",
   "execution_count": 10,
   "metadata": {},
   "outputs": [
    {
     "name": "stdout",
     "output_type": "stream",
     "text": [
      "11657\n"
     ]
    }
   ],
   "source": [
    "with open('input.txt') as f:\n",
    "    data = f.read()\n",
    "entries = data.split('\\n')\n",
    "split_entries = [entry.split() for entry in entries]\n",
    "\n",
    "my_score = 0\n",
    "op_score = 0\n",
    "\n",
    "my_moves = {\n",
    "    'X': 'R',\n",
    "    'Y': 'P',\n",
    "    'Z': 'S',\n",
    "}\n",
    "\n",
    "op_moves = {\n",
    "    'A': 'R',\n",
    "    'B': 'P',\n",
    "    'C': 'S',\n",
    "}\n",
    "\n",
    "beats_dict = {\n",
    "    'R': 'S',\n",
    "    'P': 'R',\n",
    "    'S': 'P',\n",
    "}\n",
    "\n",
    "move_scores = {\n",
    "    'R': 1,\n",
    "    'P': 2,\n",
    "    'S': 3,\n",
    "}\n",
    "\n",
    "for move in split_entries:\n",
    "    op_move = op_moves[move[0]]\n",
    "    win_lose = move[1]\n",
    "\n",
    "    if win_lose == 'X':\n",
    "        # lose\n",
    "        # print(f'need to lose')\n",
    "        my_move = beats_dict[op_move]\n",
    "    elif win_lose == 'Y':\n",
    "        # print(f'need to draw')\n",
    "        # draw\n",
    "        my_move = op_move\n",
    "    elif win_lose == 'Z':\n",
    "        # print(f'need to win')\n",
    "        # win\n",
    "        my_move = list(beats_dict.keys())[list(beats_dict.values()).index(op_move)]\n",
    "    else:\n",
    "        print(win_lose)\n",
    "        raise ValueError(f'wrong value')\n",
    "    # print(f'their move: {op_move} | my move: {my_move}')\n",
    "\n",
    "    # print(f'my move: {my_move}')\n",
    "    # print(f'op_move: {op_move}')\n",
    "    if beats_dict[op_move] == my_move:\n",
    "        my_score += move_scores[my_move]\n",
    "        op_score += move_scores[op_move] + 6\n",
    "        # print(f'op win')\n",
    "    elif op_move == my_move:\n",
    "        my_score += move_scores[my_move] + 3\n",
    "        op_score += move_scores[op_move] + 3\n",
    "        # print(f'draw')\n",
    "    else:\n",
    "        my_score += move_scores[my_move] + 6\n",
    "        op_score += move_scores[op_move]\n",
    "        # print(f'my win')\n",
    "\n",
    "    # print(f'current score: {my_score}')\n",
    "\n",
    "print(my_score)"
   ]
  }
 ],
 "metadata": {
  "kernelspec": {
   "display_name": "Python 3.10.8 64-bit",
   "language": "python",
   "name": "python3"
  },
  "language_info": {
   "codemirror_mode": {
    "name": "ipython",
    "version": 3
   },
   "file_extension": ".py",
   "mimetype": "text/x-python",
   "name": "python",
   "nbconvert_exporter": "python",
   "pygments_lexer": "ipython3",
   "version": "3.10.8"
  },
  "orig_nbformat": 4,
  "vscode": {
   "interpreter": {
    "hash": "b0fa6594d8f4cbf19f97940f81e996739fb7646882a419484c72d19e05852a7e"
   }
  }
 },
 "nbformat": 4,
 "nbformat_minor": 2
}
