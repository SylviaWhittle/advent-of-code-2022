{
 "cells": [
  {
   "cell_type": "code",
   "execution_count": 32,
   "metadata": {},
   "outputs": [
    {
     "name": "stdout",
     "output_type": "stream",
     "text": [
      "elf with the most calories: 12 with 67027 calories\n"
     ]
    }
   ],
   "source": [
    "import numpy\n",
    "with open('./input.txt') as f:\n",
    "    calorie_list = f.read().split('\\n')\n",
    "\n",
    "# print(calorie_list)\n",
    "\n",
    "# Create a dictionary of elves' ration's calories\n",
    "current_total = 0\n",
    "elf = 0\n",
    "totals = {}\n",
    "for val in calorie_list:\n",
    "    if val == '':\n",
    "        totals[elf] = current_total\n",
    "        current_total = 0\n",
    "        elf += 1\n",
    "    else:\n",
    "        current_total += int(val)\n",
    "totals[elf] = current_total\n",
    "current_total = 0\n",
    "\n",
    "# Sort the dictionary by number of calories carried\n",
    "sorted_totals = {key: value for key, value in sorted(totals.items(), key=lambda item: item[1], reverse=True)}\n",
    "\n",
    "print(f'elf with the most calories: {list(sorted_totals.keys())[0]} with {list(sorted_totals.values())[0]} calories')\n"
   ]
  },
  {
   "cell_type": "code",
   "execution_count": 33,
   "metadata": {},
   "outputs": [
    {
     "name": "stdout",
     "output_type": "stream",
     "text": [
      "elves with top 3 most calories: \n",
      "elf: 12, calories: 67027\n",
      "elf: 27, calories: 65333\n",
      "elf: 234, calories: 64931\n",
      "total calories carried by top 3 elves: 197291\n"
     ]
    }
   ],
   "source": [
    "print(f'elves with top 3 most calories: ')\n",
    "total = 0\n",
    "for i in range(3):\n",
    "    print(f'elf: {list(sorted_totals.keys())[i]}, calories: {list(sorted_totals.values())[i]}')\n",
    "    total += list(sorted_totals.values())[i]\n",
    "\n",
    "print(f'total calories carried by top 3 elves: {total}')\n"
   ]
  }
 ],
 "metadata": {
  "kernelspec": {
   "display_name": "Python 3.10.7 64-bit",
   "language": "python",
   "name": "python3"
  },
  "language_info": {
   "codemirror_mode": {
    "name": "ipython",
    "version": 3
   },
   "file_extension": ".py",
   "mimetype": "text/x-python",
   "name": "python",
   "nbconvert_exporter": "python",
   "pygments_lexer": "ipython3",
   "version": "3.10.7"
  },
  "orig_nbformat": 4,
  "vscode": {
   "interpreter": {
    "hash": "aee8b7b246df8f9039afb4144a1f6fd8d2ca17a180786b69acc140d282b71a49"
   }
  }
 },
 "nbformat": 4,
 "nbformat_minor": 2
}
